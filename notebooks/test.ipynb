{
 "cells": [
  {
   "cell_type": "code",
   "execution_count": 31,
   "metadata": {},
   "outputs": [
    {
     "data": {
      "text/plain": [
       "<Figure size 1169x827 with 0 Axes>"
      ]
     },
     "metadata": {},
     "output_type": "display_data"
    }
   ],
   "source": [
    "import petrophys\n",
    "from petrophys.visualization import visualize\n",
    "from petrophys.data import utils\n",
    "import lasio\n",
    "import pandas as pd  \n",
    "import numpy as np\n",
    "from matplotlib.backends.backend_pdf import PdfPages\n",
    "import matplotlib.pyplot as plt\n",
    "from mpl_toolkits.axisartist.axislines import Subplot \n",
    "\n",
    "#lasfile = lasio.read(os.path.join(\"../data/raw/logs/2571_cap01_1985_comp.las\"))\n",
    "lasfile = lasio.read('../data/raw/logs/2571_cap01_1985_comp.las')\n",
    "\n",
    "# Reading the .csv file containinig experimental petrophysical measurements \n",
    "km = pd.read_csv('../data/raw/cores/CAP-01_kernmetingen.csv')\n",
    "\n",
    "# Reading the .csv file containing depths and properties measured on cores \n",
    "cores = pd.read_csv('../data/raw/cores/CAP-01_cores.csv')\n",
    "\n",
    "# Converting '-' into Nan and removing outliers\n",
    "km2 = utils.convert_value_to_nan(km, value='-')\n",
    "km2 = utils.convert_value_to_nan(km, value='0.66')\n",
    "\n",
    "# Extracting different values from source database\n",
    "density = utils.get_values(km2, 'Korreldichtheid (g/cm³)', mini=True, maxi=True)\n",
    "porosity = utils.get_values(km2, 'Porositeit (%)', mini=True, maxi=True)\n",
    "permeability = utils.get_values(km2, 'hor. Perm (mD)', mini=True, maxi=True)\n",
    "depth = utils.get_values(km, 'deipte (m)')\n",
    "\n",
    "# We are making an array of top and bottom depths to plot the core intervals (m)\n",
    "# (x1, x2), (bottom, top), 'color'\n",
    "c = [(0, 0), (cores['Bottom'][0], cores['Top'][0]), 'b',\n",
    "     (0, 0), (cores['Bottom'][1], cores['Top'][1]), 'r', \n",
    "     (0, 0), (cores['Bottom'][2], cores['Top'][2]), 'g']\n",
    "\n",
    "# Generating graph's\n",
    "#visualize.well_curve(lasfile)\n",
    "#visualize.depth_intervals_cores(depth, density, porosity, permeability)\n",
    "#visualize.petro_measure_curve(lasfile, depth, density, porosity, c)\n",
    "#visualize.depth_intervals_porosity(depth, porosity, density, xlabel='Porosity', ylabel='Density', clabel='Depth (m)', graphlabel='Porosity vs Density', yscale='linear')\n",
    "#visualize.depth_intervals_porosity(depth, porosity, permeability, xlabel='Porosity', ylabel='Permeability', clabel='Depth (m)', graphlabel='Porosity vs Permeability', yscale='log')\n",
    "\n",
    "with PdfPages('multipage_pdf.pdf') as pdf:\n",
    "    firstPage = plt.figure(figsize=(11.69,8.27))\n",
    "    firstPage.clf()\n",
    "    txt = 'This is a sample report'\n",
    "    firstPage.text(0.5,0.5,txt, transform=firstPage.transFigure, size=24, ha=\"center\")\n",
    "    pdf.savefig()\n",
    "    plt.close()\n",
    "\n",
    "    secondPage = plt.figure(figsize=(11.69,8.27))\n",
    "    secondPage.clf()\n",
    "    #ax1 = plt.subplot2grid((2,2), (0,0), colspan=2)\n",
    "    #ax2 = plt.subplot2grid((2,2), (1,0), colspan=2)\n",
    "    fig = visualize.well_curve(lasfile)\n",
    "    pdf.savefig(fig)\n",
    "    plt.close()\n",
    "\n"
   ]
  }
 ],
 "metadata": {
  "kernelspec": {
   "display_name": "base",
   "language": "python",
   "name": "python3"
  },
  "language_info": {
   "codemirror_mode": {
    "name": "ipython",
    "version": 3
   },
   "file_extension": ".py",
   "mimetype": "text/x-python",
   "name": "python",
   "nbconvert_exporter": "python",
   "pygments_lexer": "ipython3",
   "version": "3.11.5"
  }
 },
 "nbformat": 4,
 "nbformat_minor": 2
}
