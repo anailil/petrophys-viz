{
 "cells": [
  {
   "cell_type": "markdown",
   "id": "fc27cd8f",
   "metadata": {},
   "source": [
    "# Petrophysical Data Visualization\n",
    "\n",
    "This is a collection of Jupyter Notebooks to quickly load, check, process, and visualize geophysical well logs and petrophysical data. \n",
    "\n",
    "## About the Data\n",
    "\n",
    "A dataset with geomechanical parameters, such as Young's modulus, Bulk modulus, Shear modulus, and Poisson's ratio, from 41 wells of the main geothermal reservoirs in the Netherlands is available for download through the _Nederlandse Olie- en Gasportaal_ (NLOG):\n",
    "\n",
    "https://www.nlog.nl/nieuws/publicatie-van-geomechanische-data-van-de-belangrijkste-geothermische-reservoirs. \n",
    "\n",
    "__Reference__: \n",
    "\n",
    "[Hunfeld et al., 2021](https://www.nlog.nl/sites/default/files/2021-12/data_selection_and_methods.pdf), _Geomechanical parameters derived from compressional and shear sonic logs for main geothermal targets in The Netherlands_. TNO Notitie. .\n",
    "\n",
    "## About this Project\n",
    "\n",
    "We have used the cookiecutter template to organize folders and data. \n",
    "\n",
    "\n"
   ]
  },
  {
   "cell_type": "markdown",
   "id": "09670829",
   "metadata": {},
   "source": [
    "\n",
    "\n"
   ]
  },
  {
   "cell_type": "code",
   "execution_count": null,
   "id": "b0305038",
   "metadata": {},
   "outputs": [],
   "source": []
  },
  {
   "cell_type": "code",
   "execution_count": null,
   "id": "7ee6ed19",
   "metadata": {},
   "outputs": [],
   "source": []
  }
 ],
 "metadata": {
  "kernelspec": {
   "display_name": "Python 3 (ipykernel)",
   "language": "python",
   "name": "python3"
  },
  "language_info": {
   "codemirror_mode": {
    "name": "ipython",
    "version": 3
   },
   "file_extension": ".py",
   "mimetype": "text/x-python",
   "name": "python",
   "nbconvert_exporter": "python",
   "pygments_lexer": "ipython3",
   "version": "3.11.3"
  }
 },
 "nbformat": 4,
 "nbformat_minor": 5
}
